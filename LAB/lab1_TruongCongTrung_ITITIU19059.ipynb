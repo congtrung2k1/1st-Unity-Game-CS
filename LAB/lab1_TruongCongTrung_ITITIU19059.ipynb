{
  "nbformat": 4,
  "nbformat_minor": 0,
  "metadata": {
    "colab": {
      "provenance": [],
      "collapsed_sections": [],
      "include_colab_link": true
    },
    "kernelspec": {
      "name": "python3",
      "display_name": "Python 3"
    },
    "language_info": {
      "name": "python"
    }
  },
  "cells": [
    {
      "cell_type": "markdown",
      "metadata": {
        "id": "view-in-github",
        "colab_type": "text"
      },
      "source": [
        "<a href=\"https://colab.research.google.com/github/congtrung2k1/1st-Unity-Game-CS/blob/master/LAB/lab1_TruongCongTrung_ITITIU19059.ipynb\" target=\"_parent\"><img src=\"https://colab.research.google.com/assets/colab-badge.svg\" alt=\"Open In Colab\"/></a>"
      ]
    },
    {
      "cell_type": "markdown",
      "source": [
        "1) Check whether the given strings contain `0xB0`\n",
        "\n",
        "```\n",
        "line1 = 'start address: 0xA0, func1 address: 0xC0'\n",
        "line2 = 'end address: 0xFF, func2 address: 0xB0'\n",
        "```"
      ],
      "metadata": {
        "id": "j51yh9o1i-Yd"
      }
    },
    {
      "cell_type": "code",
      "source": [
        "import re\n",
        "\n",
        "sen = ['start address: 0xA0, func1 address: 0xC0', 'end address: 0xFF, func2 address: 0xB0']\n",
        "\n",
        "def contain(s: str) -> bool:\n",
        "      return re.search(r\"(0xB0)\", s)\n",
        "\n",
        "for i in sen:\n",
        "  if contain(i):\n",
        "    print(i)"
      ],
      "metadata": {
        "id": "10b5aTWijADE",
        "colab": {
          "base_uri": "https://localhost:8080/"
        },
        "outputId": "3ec50252-26dc-428c-a3ba-b6fcfbcc8b1a"
      },
      "execution_count": 43,
      "outputs": [
        {
          "output_type": "stream",
          "name": "stdout",
          "text": [
            "end address: 0xFF, func2 address: 0xB0\n"
          ]
        }
      ]
    },
    {
      "cell_type": "markdown",
      "source": [
        "2) Replace all occurrences of `5` with `five` for the given string."
      ],
      "metadata": {
        "id": "8K0BiP__jAmZ"
      }
    },
    {
      "cell_type": "code",
      "source": [
        "sen = ['start addr5ess:5 0xA50, 5func51 add5res5s:5 0xC50', 'end5 ad5dress: 0xF5F, fu5nc2 addr5ess: 0xB0']\n",
        "\n",
        "def rep(s: str) -> str:\n",
        "  return re.sub(r\"5\", \"five\", s)\n",
        "\n",
        "for i in range(0, len(sen)):\n",
        "  sen[i] = rep(sen[i])\n",
        "  print(sen[i])"
      ],
      "metadata": {
        "id": "TpPz4AgTjGni",
        "colab": {
          "base_uri": "https://localhost:8080/"
        },
        "outputId": "7b839d8d-b0c6-4dae-e8bc-5312700e23d7"
      },
      "execution_count": 34,
      "outputs": [
        {
          "output_type": "stream",
          "name": "stdout",
          "text": [
            "start addrfiveess:five 0xAfive0, fivefuncfive1 addfiveresfives:five 0xCfive0\n",
            "endfive adfivedress: 0xFfiveF, fufivenc2 addrfiveess: 0xB0\n"
          ]
        }
      ]
    },
    {
      "cell_type": "markdown",
      "source": [
        "3) Replace first occurrence of `5` with `five` for the given string."
      ],
      "metadata": {
        "id": "6fPBnNySjHCT"
      }
    },
    {
      "cell_type": "code",
      "source": [
        "sen = ['start addr5ess:5 0xA50, 5func51 add5res5s:5 0xC50', 'end5 ad5dress: 0xF5F, fu5nc2 addr5ess: 0xB0']\n",
        "\n",
        "def rep_first_5(s: str) -> str:\n",
        "  return re.sub(r\"5\", \"five\", s, 1)\n",
        "\n",
        "for i in range(0, len(sen)):\n",
        "  sen[i] = rep_first_5(sen[i])\n",
        "  print(sen[i])"
      ],
      "metadata": {
        "id": "ky8FZAK_jOiB",
        "colab": {
          "base_uri": "https://localhost:8080/"
        },
        "outputId": "5ad26dd5-371a-40f0-cd2c-dde2e931bd3b"
      },
      "execution_count": 33,
      "outputs": [
        {
          "output_type": "stream",
          "name": "stdout",
          "text": [
            "start addrfiveess:5 0xA50, 5func51 add5res5s:5 0xC50\n",
            "endfive ad5dress: 0xF5F, fu5nc2 addr5ess: 0xB0\n"
          ]
        }
      ]
    },
    {
      "cell_type": "markdown",
      "source": [
        "4) For the given list, filter all elements that do *not* contain `e`."
      ],
      "metadata": {
        "id": "pw8X5aDTjO5t"
      }
    },
    {
      "cell_type": "code",
      "source": [
        "sen = [\"start\", \"addr5ess:5\", \"0xA50,\", \"5func51\", \"add5res5s:5\", \"0xC50',\", \"'end5\", \"ad5dress:\", \"0xF5F,\", \"fu5nc2\", \"addr5ess:\", \"0xB0\"]\n",
        "\n",
        "def rep_not_e(s: list) -> list:\n",
        "  reg = re.compile(r\"^((?!e).)*$\")\n",
        "  return [x for x in s if reg.match(x)]\n",
        "  #return [x for x in s if not re.search(r\"e\", x)]\n",
        "\n",
        "rep_not_e(sen)"
      ],
      "metadata": {
        "id": "aSJwZdM1jToi",
        "colab": {
          "base_uri": "https://localhost:8080/"
        },
        "outputId": "8d5af622-2100-4862-c4a2-dcbe2391d8be"
      },
      "execution_count": 37,
      "outputs": [
        {
          "output_type": "execute_result",
          "data": {
            "text/plain": [
              "['start', '0xA50,', '5func51', \"0xC50',\", '0xF5F,', 'fu5nc2', '0xB0']"
            ]
          },
          "metadata": {},
          "execution_count": 37
        }
      ]
    },
    {
      "cell_type": "markdown",
      "source": [
        "5) Replace all occurrences of `note` irrespective of case with `X`."
      ],
      "metadata": {
        "id": "6WXB2FpRjULu"
      }
    },
    {
      "cell_type": "code",
      "source": [
        "sen = ['start anotedress: 0xA0NoTe, funnotec1 address:NOTEe0xC0', 'end addressnOte: 0xFF, func2 addnoTeress: 0xB0']\n",
        "\n",
        "def rep_note(s: str) -> str:\n",
        "  return re.sub(r\"note\", \"X\", s, flags=re.I)\n",
        "\n",
        "for i in range(0, len(sen)):\n",
        "  sen[i] = rep_note(sen[i])\n",
        "  print(sen[i])"
      ],
      "metadata": {
        "id": "H-4Yxo_QjX5s",
        "colab": {
          "base_uri": "https://localhost:8080/"
        },
        "outputId": "a38d3d4c-8176-4b76-dc20-582285bd634c"
      },
      "execution_count": 39,
      "outputs": [
        {
          "output_type": "stream",
          "name": "stdout",
          "text": [
            "start aXdress: 0xA0X, funXc1 address:Xe0xC0\n",
            "end addressX: 0xFF, func2 addXress: 0xB0\n"
          ]
        }
      ]
    },
    {
      "cell_type": "markdown",
      "source": [
        "6) Check if `at` is present in the given byte input data."
      ],
      "metadata": {
        "id": "TOlwtrxMjb8u"
      }
    },
    {
      "cell_type": "code",
      "source": [
        "sen = [b\"statrt\", b\"atddr5ess:5\", b\"0xA50,\", b\"5func51\", b\"add5res5s:5\", b\"0xC50,\", b\"end5\", b\"atd5dress:\", b\"0xF5F,\", b\"fu5nc2\", b\"addr5ess:\", b\"0xB0\"]\n",
        "\n",
        "def rep_at(s: bytes) -> bool:\n",
        "  return re.search(rb\"at\", s)\n",
        "\n",
        "for i in sen:\n",
        "  if rep_at(i):\n",
        "    print(i)"
      ],
      "metadata": {
        "id": "KlnveqNxjcwQ",
        "colab": {
          "base_uri": "https://localhost:8080/"
        },
        "outputId": "d71b216c-e25f-464a-a8b8-c0ed7694a772"
      },
      "execution_count": 52,
      "outputs": [
        {
          "output_type": "stream",
          "name": "stdout",
          "text": [
            "b'statrt'\n",
            "b'atddr5ess:5'\n",
            "b'atd5dress:'\n"
          ]
        }
      ]
    },
    {
      "cell_type": "markdown",
      "source": [
        "7) For the given input string, display all lines not containing `start` irrespective of case."
      ],
      "metadata": {
        "id": "k2yQahCEjdL_"
      }
    },
    {
      "cell_type": "code",
      "source": [
        "sen = ['start anotedress: 0xA0NoTe, funnotec1 address:NOTEe0xC0', 'end addressnOte: 0xFF, func2 addnoTeress: 0xB0', 'stArt anotedress: 0xA0NoTe, funnotec1 address:NOTEe0xC0','strt anotedress: 0xA0NoTe, funnotec1 address:NOTEe0xC0']\n",
        "\n",
        "def rep_not_start(s: str) -> bool:\n",
        "  reg = re.compile(r\"^((?!start).)*$\", flags=re.I)\n",
        "  return reg.match(s)\n",
        "  #return not re.search(r\"start\", s, flags=re.I)\n",
        "\n",
        "for i in sen:\n",
        "  if rep_not_start(i):\n",
        "    print(i)"
      ],
      "metadata": {
        "id": "CkZhJu2_jliK",
        "colab": {
          "base_uri": "https://localhost:8080/"
        },
        "outputId": "e2d916bf-cd4a-41cf-aed3-d926eab7a91c"
      },
      "execution_count": 60,
      "outputs": [
        {
          "output_type": "stream",
          "name": "stdout",
          "text": [
            "end addressnOte: 0xFF, func2 addnoTeress: 0xB0\n",
            "strt anotedress: 0xA0NoTe, funnotec1 address:NOTEe0xC0\n"
          ]
        }
      ]
    },
    {
      "cell_type": "markdown",
      "source": [
        "8) For the given list, filter all elements that contains either `a` or `w`."
      ],
      "metadata": {
        "id": "6KVBvzxMjl-T"
      }
    },
    {
      "cell_type": "code",
      "source": [
        "sen = [\"statrt\", \"atddr5ess:5\", \"0xA50,\", \"5func51\", \"add5wqres5s:5\", \"0xwC50,\", \"end5\", \"atd5drewss:\", \"0xF5F,\", \"fu5nc2\", \"addr5ess:\", \"xB0\"]\n",
        "\n",
        "def rep_aw(s: str) -> bool:\n",
        "  return re.search(r\"(a|w)\", s)\n",
        "\n",
        "for i in sen:\n",
        "  if rep_aw(i):\n",
        "    print(i)"
      ],
      "metadata": {
        "id": "sbG36TYtjtHB",
        "colab": {
          "base_uri": "https://localhost:8080/"
        },
        "outputId": "87d68743-aba3-481e-bb21-2e47757968d2"
      },
      "execution_count": 66,
      "outputs": [
        {
          "output_type": "stream",
          "name": "stdout",
          "text": [
            "statrt\n",
            "atddr5ess:5\n",
            "add5wqres5s:5\n",
            "0xwC50,\n",
            "atd5drewss:\n",
            "addr5ess:\n"
          ]
        }
      ]
    },
    {
      "cell_type": "markdown",
      "source": [
        "9) For the given list, filter all elements that contains both `e` and `n`."
      ],
      "metadata": {
        "id": "l3v6vE0zjtgf"
      }
    },
    {
      "cell_type": "code",
      "source": [
        "sen = [\"statrt\", \"atddr5ess:5\", \"0xA50,\", \"5func51\", \"add5wqres5s:5\", \"0xwC50,\", \"end5\", \"atd5drewss:\", \"0xF5F,\", \"fu5nc2\", \"addr5ess:\", \"xB0\"]\n",
        "\n",
        "def rep_en(s: str) -> bool:\n",
        "  return re.search(r\"e\", s) and re.search(r\"n\", s)\n",
        "\n",
        "for i in sen:\n",
        "  if rep_en(i):\n",
        "    print(i)"
      ],
      "metadata": {
        "id": "JmWu94f6jyHV",
        "colab": {
          "base_uri": "https://localhost:8080/"
        },
        "outputId": "382dc3d9-fa52-41b6-a334-bdee1bd0ba7e"
      },
      "execution_count": 68,
      "outputs": [
        {
          "output_type": "stream",
          "name": "stdout",
          "text": [
            "end5\n"
          ]
        }
      ]
    },
    {
      "cell_type": "markdown",
      "source": [
        "10) For the given string, replace `0xA0` with `0x7F` and `0xC0` with `0x1F`.\n",
        "\n",
        "```\n",
        "ip = 'start address: 0xA0, func1 address: 0xC0'\n",
        "```"
      ],
      "metadata": {
        "id": "uySnZnFUjyfi"
      }
    },
    {
      "cell_type": "code",
      "source": [
        "def rep_0xA0_0xC0(s: str) -> str:\n",
        "  return re.sub(r\"0xA0\", \"0x7F\", re.sub(r\"0xC0\", \"0x1F\", s))\n",
        "\n",
        "ip = 'start address: 0xA0, func1 address: 0xC0'\n",
        "print(rep_0xA0_0xC0(ip))\n"
      ],
      "metadata": {
        "id": "5UJmhkJ4j5N6",
        "colab": {
          "base_uri": "https://localhost:8080/"
        },
        "outputId": "c0d02956-5df6-430c-e4d7-e6ab1f8de665"
      },
      "execution_count": 70,
      "outputs": [
        {
          "output_type": "stream",
          "name": "stdout",
          "text": [
            "start address: 0x7F, func1 address: 0x1F\n"
          ]
        }
      ]
    },
    {
      "cell_type": "markdown",
      "source": [
        "11) For the given input list, filter all elements that contains `42` surrounded by word characters.\n",
        "\n",
        "```\n",
        "words = ['hi42bye', 'nice1423', 'bad42', 'cool_42a', 'fake4b']\n",
        "```"
      ],
      "metadata": {
        "id": "CPqffmeWkBIN"
      }
    },
    {
      "cell_type": "code",
      "source": [
        "words = ['hi42bye', 'nice1423', 'bad42', 'cool_42a', 'fake4b']\n",
        "\n",
        "def rep_42(s: list) -> list:\n",
        "  return [x for x in s if re.search(r\"\\B42\\B\", x)]\n",
        "\n",
        "rep_42(words)"
      ],
      "metadata": {
        "id": "Wpbkz9M3kBxz",
        "colab": {
          "base_uri": "https://localhost:8080/"
        },
        "outputId": "6f27adea-e51b-474f-e3b5-a645302479c3"
      },
      "execution_count": 72,
      "outputs": [
        {
          "output_type": "execute_result",
          "data": {
            "text/plain": [
              "['hi42bye', 'nice1423', 'cool_42a']"
            ]
          },
          "metadata": {},
          "execution_count": 72
        }
      ]
    },
    {
      "cell_type": "markdown",
      "source": [
        "12) For the given list, filter all elements having a line starting with `den` or ending with `ly`.\n",
        "\n",
        "```\n",
        "items = ['lovely', '1\\ndentist', '2 lonely', 'eden', 'fly\\nfar', 'dent']\n",
        "```\n"
      ],
      "metadata": {
        "id": "FxJmHuzKkCLq"
      }
    },
    {
      "cell_type": "code",
      "source": [
        "items = ['lovely', '1\\ndentist', '2 lonely', 'eden', 'fly\\nfar', 'dent']\n",
        "\n",
        "def rep_den_ly(s: list) -> list:\n",
        "  return [x for x in s if re.search(r\"^den|ly$\", x, flags=re.M)]\n",
        "\n",
        "print(rep_den_ly(items))"
      ],
      "metadata": {
        "id": "vYyucEjUkTpb",
        "colab": {
          "base_uri": "https://localhost:8080/"
        },
        "outputId": "a29df669-36b6-468e-f33e-f2af85595452"
      },
      "execution_count": 87,
      "outputs": [
        {
          "output_type": "stream",
          "name": "stdout",
          "text": [
            "['lovely', '2 lonely', 'dent']\n"
          ]
        }
      ]
    },
    {
      "cell_type": "markdown",
      "source": [
        "13) For the input list `words`, remove all elements having less than `6` characters."
      ],
      "metadata": {
        "id": "wWiDWDyrkUH-"
      }
    },
    {
      "cell_type": "code",
      "source": [
        "words = ['hi42bye', 'nice1423', 'bad42', 'cool_42a', 'fake4b']\n",
        "\n",
        "def rep_greater_6(s: list) -> list:\n",
        "  return [x for x in s if re.search(r\".{6,}\", x)]\n",
        "\n",
        "print(rep_greater_6(words))"
      ],
      "metadata": {
        "id": "1dxif4ZilhgW",
        "colab": {
          "base_uri": "https://localhost:8080/"
        },
        "outputId": "2f994fe8-526d-43e6-b049-37a4ad50cc36"
      },
      "execution_count": 91,
      "outputs": [
        {
          "output_type": "stream",
          "name": "stdout",
          "text": [
            "['hi42bye', 'nice1423', 'cool_42a', 'fake4b']\n"
          ]
        }
      ]
    },
    {
      "cell_type": "markdown",
      "source": [
        "14) For the input list `words`, filter all elements starting with `s` or `t` and having a maximum of `6` characters.\n",
        "\n",
        "```\n",
        "words = ['sequoia', 'subtle', 'exhibit', 'asset', 'sets', 'tests', 'site']\n",
        "```"
      ],
      "metadata": {
        "id": "Eyw9wF9VliIK"
      }
    },
    {
      "cell_type": "code",
      "source": [
        "words = ['sequoia', 'subtle', 'exhibit', 'asset', 'sets', 'tests', 'site']\n",
        "\n",
        "def rep_st_6(s: list) -> list:\n",
        "  return [x for x in s if re.fullmatch(r\"^[st].{,5}\", x)]\n",
        "\n",
        "print(rep_st_6(words))"
      ],
      "metadata": {
        "id": "hN7llRxwlpJA",
        "colab": {
          "base_uri": "https://localhost:8080/"
        },
        "outputId": "ddcd5395-96b7-4055-eb99-9c75e9ea9d59"
      },
      "execution_count": 116,
      "outputs": [
        {
          "output_type": "stream",
          "name": "stdout",
          "text": [
            "['subtle', 'sets', 'tests', 'site']\n"
          ]
        }
      ]
    },
    {
      "cell_type": "markdown",
      "source": [
        "15) For the given list of strings, change the elements into a tuple of original element and number of times `t` occurs in that element.\n",
        "\n",
        "```\n",
        "words = ['sequoia', 'attest', 'tattletale', 'asset']\n",
        "```"
      ],
      "metadata": {
        "id": "ipDQ23TwlpkI"
      }
    },
    {
      "cell_type": "code",
      "source": [
        "words = ['sequoia', 'attest', 'tattletale', 'asset']\n",
        "\n",
        "def cnt_t(s: str) -> int:\n",
        "  return len(re.findall(r't', s))\n",
        "\n",
        "res = []\n",
        "for i in words:\n",
        "  res.append((i, cnt_t(i)))\n",
        "print(res)\n",
        "\n",
        "# def cnt_t(s: list) -> list:\n",
        "#   return [re.subn(r't','t',x) for x in s]\n",
        "# print(cnt_t(words))"
      ],
      "metadata": {
        "id": "NzpIo5-8mUlp",
        "colab": {
          "base_uri": "https://localhost:8080/"
        },
        "outputId": "db473f01-224e-428b-e4f1-003f38fc743a"
      },
      "execution_count": 115,
      "outputs": [
        {
          "output_type": "stream",
          "name": "stdout",
          "text": [
            "[('sequoia', 0), ('attest', 3), ('tattletale', 4), ('asset', 1)]\n"
          ]
        }
      ]
    },
    {
      "cell_type": "markdown",
      "source": [
        "16) For the list `words` below, filter all elements containing `e` or `i` followed by `l` or `n`. Note that the order mentioned should be followed.\n",
        "\n",
        "```\n",
        "words = ['surrender', 'unicorn', 'newer', 'door', 'empty', 'eel', 'pest']\n",
        "```"
      ],
      "metadata": {
        "id": "85XItBh0mX5L"
      }
    },
    {
      "cell_type": "code",
      "source": [
        "words = ['surrender', 'unicorn', 'newer', 'door', 'empty', 'eel', 'pest']\n",
        "\n",
        "def rep_ei_ln(s: list) -> list:\n",
        "  return [x for x in s if re.search(r\"[ei].*[ln]\", x)]\n",
        "\n",
        "print(rep_ei_ln(words))"
      ],
      "metadata": {
        "id": "dfsjsk7hmzWL",
        "colab": {
          "base_uri": "https://localhost:8080/"
        },
        "outputId": "c78ae520-4424-4410-b6c2-edd8754763a9"
      },
      "execution_count": 118,
      "outputs": [
        {
          "output_type": "stream",
          "name": "stdout",
          "text": [
            "['surrender', 'unicorn', 'eel']\n"
          ]
        }
      ]
    },
    {
      "cell_type": "markdown",
      "source": [
        "17) Delete from `(` to the next occurrence of `)` unless they contain parentheses characters in between.\n",
        "\n",
        "```\n",
        "str1 = 'def factorial()'\n",
        "str2 = 'a/b(division) + c%d(#modulo) - (e+(j/k-3)*4)'\n",
        "str3 = 'Hi there(greeting). Nice day(a(b)'\n",
        "```"
      ],
      "metadata": {
        "id": "WDHPD81Cn15p"
      }
    },
    {
      "cell_type": "code",
      "source": [
        "sen = ['def factorial()', 'a/b(division) + c%d(#modulo) - (e+(j/k-3)*4)', 'Hi there(greeting). Nice day(a(b)']\n",
        "\n",
        "def rep_parentheses(s: list) -> list:\n",
        "  return [re.sub(r\"\\([^()]*\\)\", \"\", x) for x in s]\n",
        "\n",
        "print(rep_parentheses(sen))"
      ],
      "metadata": {
        "id": "eztrqH1foA7X",
        "colab": {
          "base_uri": "https://localhost:8080/"
        },
        "outputId": "3ef7c62c-3ea1-4d99-e113-b5ea73ac345d"
      },
      "execution_count": 128,
      "outputs": [
        {
          "output_type": "stream",
          "name": "stdout",
          "text": [
            "['def factorial', 'a/b + c%d - (e+*4)', 'Hi there. Nice day(a']\n"
          ]
        }
      ]
    },
    {
      "cell_type": "markdown",
      "source": [
        "18) Split the given strings based on consecutive sequence of digit or whitespace characters.\n",
        "\n",
        "```\n",
        "str1 = 'lion \\t Ink32onion Nice'\n",
        "str2 = '**1\\f2\\n3star\\t7 77\\r**'\n",
        "```"
      ],
      "metadata": {
        "id": "DhYlkg9joCHg"
      }
    },
    {
      "cell_type": "code",
      "source": [
        "sen = ['lion \\t Ink32onion Nice', '**1\\f2\\n3star\\t7 77\\r**']\n",
        "\n",
        "def rep_1(s: list) -> list:\n",
        "  return [re.split(r\"[\\d\\s]+\", x) for x in s]\n",
        "\n",
        "print(rep_1(sen))"
      ],
      "metadata": {
        "id": "VJVU9_i8oVni",
        "colab": {
          "base_uri": "https://localhost:8080/"
        },
        "outputId": "1fca4f23-e27b-40a6-ce1f-3b32632c6717"
      },
      "execution_count": 131,
      "outputs": [
        {
          "output_type": "stream",
          "name": "stdout",
          "text": [
            "[['lion', 'Ink', 'onion', 'Nice'], ['**', 'star', '**']]\n"
          ]
        }
      ]
    },
    {
      "cell_type": "markdown",
      "source": [
        "19) For the given list, filter all elements containing any number sequence greater than `624`.\n",
        "\n",
        "```\n",
        "items = ['hi0000432abcd', 'car00625', '42_624 0512', '3.14 96 2 foo1234baz']\n",
        "```"
      ],
      "metadata": {
        "id": "VmON_uiyoWgF"
      }
    },
    {
      "cell_type": "code",
      "source": [
        "items = ['hi0000432abcd', 'car00625', '42_624 0512', '3.14 96 2 foo1234baz']\n",
        "\n",
        "def rep_2(s: list) -> list:\n",
        "  return [x for x in s if any(int(i[0]) > 624 for i in re.finditer(r'\\d+', x))]\n",
        "\n",
        "print(rep_2(items))"
      ],
      "metadata": {
        "id": "7y_Vw5e4olZG",
        "colab": {
          "base_uri": "https://localhost:8080/"
        },
        "outputId": "09b95737-cb77-4f8a-d12e-2c2f59f77e9b"
      },
      "execution_count": 137,
      "outputs": [
        {
          "output_type": "stream",
          "name": "stdout",
          "text": [
            "['car00625', '3.14 96 2 foo1234baz']\n"
          ]
        }
      ]
    },
    {
      "cell_type": "markdown",
      "source": [
        "20) Replace sequences made up of words separated by `:` or `.` by the last word of the sequence. Such sequences will end when `:` or `.` is not followed by a word character.\n",
        "\n",
        "```\n",
        "ip = 'wow:Good:2_two:five: hi-2 bye kite.777.water.'\n",
        "```"
      ],
      "metadata": {
        "id": "OTOsDOHOomdM"
      }
    },
    {
      "cell_type": "code",
      "source": [
        "ip = 'wow:Good:2_two:five: hi-2 bye kite.777.water.'\n",
        "\n",
        "def rep_3(s: list) -> str:\n",
        "  return re.sub(r\"((\\w+)[:.])+\", r\"\\2\", s)\n",
        "\n",
        "print(rep_3(ip))"
      ],
      "metadata": {
        "id": "igCPcZpvpUg9",
        "colab": {
          "base_uri": "https://localhost:8080/"
        },
        "outputId": "a033cfe2-6e66-4843-aa2c-9ab80e3adc7d"
      },
      "execution_count": 148,
      "outputs": [
        {
          "output_type": "stream",
          "name": "stdout",
          "text": [
            "five hi-2 bye water\n"
          ]
        }
      ]
    }
  ]
}